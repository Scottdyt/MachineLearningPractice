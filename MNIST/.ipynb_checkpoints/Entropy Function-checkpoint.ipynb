{
 "cells": [
  {
   "cell_type": "markdown",
   "metadata": {},
   "source": [
    "# inport data"
   ]
  },
  {
   "cell_type": "code",
   "execution_count": 24,
   "metadata": {},
   "outputs": [],
   "source": [
    "import Network2"
   ]
  },
  {
   "cell_type": "code",
   "execution_count": 25,
   "metadata": {},
   "outputs": [
    {
     "name": "stdout",
     "output_type": "stream",
     "text": [
      "(60000,)\n",
      "(10000,)\n"
     ]
    }
   ],
   "source": [
    "training_data, vaildation_data,test_data = Network2.load_data_wrapper()"
   ]
  },
  {
   "cell_type": "markdown",
   "metadata": {},
   "source": [
    "# use entropy funciton to see improvment"
   ]
  },
  {
   "cell_type": "code",
   "execution_count": 5,
   "metadata": {},
   "outputs": [],
   "source": [
    "net = Network2.Network([784,30,10],cost = Network2.CrossEntropyCost)"
   ]
  },
  {
   "cell_type": "markdown",
   "metadata": {},
   "source": [
    "## initialization as ch1 use Gaussian distribution"
   ]
  },
  {
   "cell_type": "code",
   "execution_count": 6,
   "metadata": {},
   "outputs": [
    {
     "data": {
      "text/plain": [
       "<bound method Network.large_weight_initializer of <Network2.Network object at 0x000001CB49CA5A90>>"
      ]
     },
     "execution_count": 6,
     "metadata": {},
     "output_type": "execute_result"
    }
   ],
   "source": [
    "net.large_weight_initializer()"
   ]
  },
  {
   "cell_type": "markdown",
   "metadata": {},
   "source": [
    "## epoch 30 times, 10 mini batch, 0.5 learning rate"
   ]
  },
  {
   "cell_type": "code",
   "execution_count": 7,
   "metadata": {
    "scrolled": true
   },
   "outputs": [
    {
     "name": "stdout",
     "output_type": "stream",
     "text": [
      "Epoch 0 training complete\n",
      "Accuracy on evaluation data: 9361 / 10000\n",
      "Epoch 1 training complete\n",
      "Accuracy on evaluation data: 9488 / 10000\n",
      "Epoch 2 training complete\n",
      "Accuracy on evaluation data: 9521 / 10000\n",
      "Epoch 3 training complete\n",
      "Accuracy on evaluation data: 9511 / 10000\n",
      "Epoch 4 training complete\n",
      "Accuracy on evaluation data: 9529 / 10000\n",
      "Epoch 5 training complete\n",
      "Accuracy on evaluation data: 9539 / 10000\n",
      "Epoch 6 training complete\n",
      "Accuracy on evaluation data: 9559 / 10000\n",
      "Epoch 7 training complete\n",
      "Accuracy on evaluation data: 9558 / 10000\n",
      "Epoch 8 training complete\n",
      "Accuracy on evaluation data: 9558 / 10000\n",
      "Epoch 9 training complete\n",
      "Accuracy on evaluation data: 9567 / 10000\n",
      "Epoch 10 training complete\n",
      "Accuracy on evaluation data: 9563 / 10000\n",
      "Epoch 11 training complete\n",
      "Accuracy on evaluation data: 9579 / 10000\n",
      "Epoch 12 training complete\n",
      "Accuracy on evaluation data: 9565 / 10000\n",
      "Epoch 13 training complete\n",
      "Accuracy on evaluation data: 9551 / 10000\n",
      "Epoch 14 training complete\n",
      "Accuracy on evaluation data: 9578 / 10000\n",
      "Epoch 15 training complete\n",
      "Accuracy on evaluation data: 9575 / 10000\n",
      "Epoch 16 training complete\n",
      "Accuracy on evaluation data: 9575 / 10000\n",
      "Epoch 17 training complete\n",
      "Accuracy on evaluation data: 9577 / 10000\n",
      "Epoch 18 training complete\n",
      "Accuracy on evaluation data: 9569 / 10000\n",
      "Epoch 19 training complete\n",
      "Accuracy on evaluation data: 9547 / 10000\n",
      "Epoch 20 training complete\n",
      "Accuracy on evaluation data: 9593 / 10000\n",
      "Epoch 21 training complete\n",
      "Accuracy on evaluation data: 9577 / 10000\n",
      "Epoch 22 training complete\n",
      "Accuracy on evaluation data: 9566 / 10000\n",
      "Epoch 23 training complete\n",
      "Accuracy on evaluation data: 9551 / 10000\n",
      "Epoch 24 training complete\n",
      "Accuracy on evaluation data: 9561 / 10000\n",
      "Epoch 25 training complete\n",
      "Accuracy on evaluation data: 9554 / 10000\n",
      "Epoch 26 training complete\n",
      "Accuracy on evaluation data: 9559 / 10000\n",
      "Epoch 27 training complete\n",
      "Accuracy on evaluation data: 9557 / 10000\n",
      "Epoch 28 training complete\n",
      "Accuracy on evaluation data: 9555 / 10000\n",
      "Epoch 29 training complete\n",
      "Accuracy on evaluation data: 9543 / 10000\n"
     ]
    },
    {
     "data": {
      "text/plain": [
       "([],\n",
       " [9361,\n",
       "  9488,\n",
       "  9521,\n",
       "  9511,\n",
       "  9529,\n",
       "  9539,\n",
       "  9559,\n",
       "  9558,\n",
       "  9558,\n",
       "  9567,\n",
       "  9563,\n",
       "  9579,\n",
       "  9565,\n",
       "  9551,\n",
       "  9578,\n",
       "  9575,\n",
       "  9575,\n",
       "  9577,\n",
       "  9569,\n",
       "  9547,\n",
       "  9593,\n",
       "  9577,\n",
       "  9566,\n",
       "  9551,\n",
       "  9561,\n",
       "  9554,\n",
       "  9559,\n",
       "  9557,\n",
       "  9555,\n",
       "  9543],\n",
       " [],\n",
       " [])"
      ]
     },
     "execution_count": 7,
     "metadata": {},
     "output_type": "execute_result"
    }
   ],
   "source": [
    "net.SGD(training_data,30,10,0.5,evaluation_data=test_data,monitor_evaluation_accuracy = True) "
   ]
  },
  {
   "cell_type": "markdown",
   "metadata": {},
   "source": [
    "## 增加到100个神经元，准确率就提升到97%，说明交叉熵有明显作用"
   ]
  },
  {
   "cell_type": "code",
   "execution_count": 13,
   "metadata": {},
   "outputs": [],
   "source": [
    "net2 = Network2.Network([784,100,10],cost = Network2.CrossEntropyCost)"
   ]
  },
  {
   "cell_type": "code",
   "execution_count": 14,
   "metadata": {
    "scrolled": true
   },
   "outputs": [
    {
     "name": "stdout",
     "output_type": "stream",
     "text": [
      "Epoch 0 training complete\n",
      "Accuracy on evaluation data: 9576 / 10000\n",
      "Epoch 1 training complete\n",
      "Accuracy on evaluation data: 9673 / 10000\n",
      "Epoch 2 training complete\n",
      "Accuracy on evaluation data: 9683 / 10000\n",
      "Epoch 3 training complete\n",
      "Accuracy on evaluation data: 9729 / 10000\n",
      "Epoch 4 training complete\n",
      "Accuracy on evaluation data: 9717 / 10000\n",
      "Epoch 5 training complete\n",
      "Accuracy on evaluation data: 9764 / 10000\n",
      "Epoch 6 training complete\n",
      "Accuracy on evaluation data: 9762 / 10000\n",
      "Epoch 7 training complete\n",
      "Accuracy on evaluation data: 9774 / 10000\n",
      "Epoch 8 training complete\n",
      "Accuracy on evaluation data: 9750 / 10000\n",
      "Epoch 9 training complete\n",
      "Accuracy on evaluation data: 9770 / 10000\n",
      "Epoch 10 training complete\n",
      "Accuracy on evaluation data: 9753 / 10000\n",
      "Epoch 11 training complete\n",
      "Accuracy on evaluation data: 9766 / 10000\n",
      "Epoch 12 training complete\n",
      "Accuracy on evaluation data: 9763 / 10000\n",
      "Epoch 13 training complete\n",
      "Accuracy on evaluation data: 9780 / 10000\n",
      "Epoch 14 training complete\n",
      "Accuracy on evaluation data: 9777 / 10000\n",
      "Epoch 15 training complete\n",
      "Accuracy on evaluation data: 9763 / 10000\n",
      "Epoch 16 training complete\n",
      "Accuracy on evaluation data: 9777 / 10000\n",
      "Epoch 17 training complete\n",
      "Accuracy on evaluation data: 9765 / 10000\n",
      "Epoch 18 training complete\n",
      "Accuracy on evaluation data: 9777 / 10000\n",
      "Epoch 19 training complete\n",
      "Accuracy on evaluation data: 9774 / 10000\n",
      "Epoch 20 training complete\n",
      "Accuracy on evaluation data: 9776 / 10000\n",
      "Epoch 21 training complete\n",
      "Accuracy on evaluation data: 9777 / 10000\n",
      "Epoch 22 training complete\n",
      "Accuracy on evaluation data: 9778 / 10000\n",
      "Epoch 23 training complete\n",
      "Accuracy on evaluation data: 9781 / 10000\n",
      "Epoch 24 training complete\n",
      "Accuracy on evaluation data: 9776 / 10000\n",
      "Epoch 25 training complete\n",
      "Accuracy on evaluation data: 9778 / 10000\n",
      "Epoch 26 training complete\n",
      "Accuracy on evaluation data: 9777 / 10000\n",
      "Epoch 27 training complete\n",
      "Accuracy on evaluation data: 9783 / 10000\n",
      "Epoch 28 training complete\n",
      "Accuracy on evaluation data: 9787 / 10000\n",
      "Epoch 29 training complete\n",
      "Accuracy on evaluation data: 9784 / 10000\n"
     ]
    },
    {
     "data": {
      "text/plain": [
       "([],\n",
       " [9576,\n",
       "  9673,\n",
       "  9683,\n",
       "  9729,\n",
       "  9717,\n",
       "  9764,\n",
       "  9762,\n",
       "  9774,\n",
       "  9750,\n",
       "  9770,\n",
       "  9753,\n",
       "  9766,\n",
       "  9763,\n",
       "  9780,\n",
       "  9777,\n",
       "  9763,\n",
       "  9777,\n",
       "  9765,\n",
       "  9777,\n",
       "  9774,\n",
       "  9776,\n",
       "  9777,\n",
       "  9778,\n",
       "  9781,\n",
       "  9776,\n",
       "  9778,\n",
       "  9777,\n",
       "  9783,\n",
       "  9787,\n",
       "  9784],\n",
       " [],\n",
       " [])"
      ]
     },
     "execution_count": 14,
     "metadata": {},
     "output_type": "execute_result"
    }
   ],
   "source": [
    "net2.SGD(training_data,30,10,0.5,evaluation_data=test_data,monitor_evaluation_accuracy = True) "
   ]
  },
  {
   "cell_type": "markdown",
   "metadata": {},
   "source": [
    "# 增加到100个神经元，并规范化，准确率达到98%"
   ]
  },
  {
   "cell_type": "code",
   "execution_count": 26,
   "metadata": {},
   "outputs": [],
   "source": [
    "net3 = Network2.Network([784,100,10],cost = Network2.CrossEntropyCost)"
   ]
  },
  {
   "cell_type": "code",
   "execution_count": 27,
   "metadata": {},
   "outputs": [],
   "source": [
    "net3.large_weight_initializer()"
   ]
  },
  {
   "cell_type": "code",
   "execution_count": null,
   "metadata": {},
   "outputs": [],
   "source": [
    "net2.SGD(training_data,60,10,0.1,evaluation_data=test_data,monitor_evaluation_accuracy = True,lmbda = 5.0) "
   ]
  },
  {
   "cell_type": "code",
   "execution_count": null,
   "metadata": {},
   "outputs": [],
   "source": []
  }
 ],
 "metadata": {
  "kernelspec": {
   "display_name": "Python 3",
   "language": "python",
   "name": "python3"
  },
  "language_info": {
   "codemirror_mode": {
    "name": "ipython",
    "version": 3
   },
   "file_extension": ".py",
   "mimetype": "text/x-python",
   "name": "python",
   "nbconvert_exporter": "python",
   "pygments_lexer": "ipython3",
   "version": "3.6.4"
  }
 },
 "nbformat": 4,
 "nbformat_minor": 2
}
