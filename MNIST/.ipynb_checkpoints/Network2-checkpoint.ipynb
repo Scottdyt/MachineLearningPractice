{
 "cells": [
  {
   "cell_type": "markdown",
   "metadata": {},
   "source": [
    "# inport data loader "
   ]
  },
  {
   "cell_type": "code",
   "execution_count": 11,
   "metadata": {},
   "outputs": [],
   "source": [
    "import Network"
   ]
  },
  {
   "cell_type": "code",
   "execution_count": 12,
   "metadata": {},
   "outputs": [
    {
     "name": "stdout",
     "output_type": "stream",
     "text": [
      "(60000,)\n",
      "(10000,)\n"
     ]
    }
   ],
   "source": [
    "training_data, test_data = Network.load_data_wrapper()"
   ]
  },
  {
   "cell_type": "code",
   "execution_count": 13,
   "metadata": {},
   "outputs": [],
   "source": [
    "import Network2"
   ]
  },
  {
   "cell_type": "markdown",
   "metadata": {},
   "source": [
    "# input 784, inside 40, output 10 "
   ]
  },
  {
   "cell_type": "code",
   "execution_count": 14,
   "metadata": {},
   "outputs": [],
   "source": [
    "net = Network2.Network([784,30,10],cost = Network2.CrossEntropyCost)"
   ]
  },
  {
   "cell_type": "code",
   "execution_count": 17,
   "metadata": {},
   "outputs": [
    {
     "data": {
      "text/plain": [
       "<bound method Network.large_weight_initializer of <Network2.Network object at 0x000001F11612B390>>"
      ]
     },
     "execution_count": 17,
     "metadata": {},
     "output_type": "execute_result"
    }
   ],
   "source": [
    "net.large_weight_initializer"
   ]
  },
  {
   "cell_type": "markdown",
   "metadata": {},
   "source": [
    "# epoch 30 times, 10 mini batch, 0.5 learning rate"
   ]
  },
  {
   "cell_type": "code",
   "execution_count": 16,
   "metadata": {},
   "outputs": [
    {
     "name": "stdout",
     "output_type": "stream",
     "text": [
      "Epoch 0 training complete\n",
      "Accuracy on training data: 57011 / 60000\n",
      "Epoch 1 training complete\n",
      "Accuracy on training data: 57469 / 60000\n",
      "Epoch 2 training complete\n",
      "Accuracy on training data: 57621 / 60000\n",
      "Epoch 3 training complete\n",
      "Accuracy on training data: 57679 / 60000\n",
      "Epoch 4 training complete\n",
      "Accuracy on training data: 58102 / 60000\n",
      "Epoch 5 training complete\n",
      "Accuracy on training data: 58123 / 60000\n",
      "Epoch 6 training complete\n",
      "Accuracy on training data: 58273 / 60000\n",
      "Epoch 7 training complete\n",
      "Accuracy on training data: 58446 / 60000\n",
      "Epoch 8 training complete\n",
      "Accuracy on training data: 58434 / 60000\n",
      "Epoch 9 training complete\n",
      "Accuracy on training data: 58398 / 60000\n",
      "Epoch 10 training complete\n",
      "Accuracy on training data: 58414 / 60000\n",
      "Epoch 11 training complete\n",
      "Accuracy on training data: 58527 / 60000\n",
      "Epoch 12 training complete\n",
      "Accuracy on training data: 58573 / 60000\n",
      "Epoch 13 training complete\n",
      "Accuracy on training data: 58613 / 60000\n",
      "Epoch 14 training complete\n",
      "Accuracy on training data: 58629 / 60000\n",
      "Epoch 15 training complete\n",
      "Accuracy on training data: 58659 / 60000\n",
      "Epoch 16 training complete\n",
      "Accuracy on training data: 58788 / 60000\n",
      "Epoch 17 training complete\n",
      "Accuracy on training data: 58649 / 60000\n",
      "Epoch 18 training complete\n",
      "Accuracy on training data: 58840 / 60000\n",
      "Epoch 19 training complete\n",
      "Accuracy on training data: 58948 / 60000\n",
      "Epoch 20 training complete\n",
      "Accuracy on training data: 58772 / 60000\n",
      "Epoch 21 training complete\n",
      "Accuracy on training data: 58812 / 60000\n",
      "Epoch 22 training complete\n",
      "Accuracy on training data: 58921 / 60000\n",
      "Epoch 23 training complete\n",
      "Accuracy on training data: 58981 / 60000\n",
      "Epoch 24 training complete\n",
      "Accuracy on training data: 58984 / 60000\n",
      "Epoch 25 training complete\n",
      "Accuracy on training data: 58946 / 60000\n",
      "Epoch 26 training complete\n",
      "Accuracy on training data: 59118 / 60000\n",
      "Epoch 27 training complete\n",
      "Accuracy on training data: 59078 / 60000\n",
      "Epoch 28 training complete\n",
      "Accuracy on training data: 59133 / 60000\n",
      "Epoch 29 training complete\n",
      "Accuracy on training data: 59128 / 60000\n"
     ]
    },
    {
     "data": {
      "text/plain": [
       "([],\n",
       " [],\n",
       " [],\n",
       " [57011,\n",
       "  57469,\n",
       "  57621,\n",
       "  57679,\n",
       "  58102,\n",
       "  58123,\n",
       "  58273,\n",
       "  58446,\n",
       "  58434,\n",
       "  58398,\n",
       "  58414,\n",
       "  58527,\n",
       "  58573,\n",
       "  58613,\n",
       "  58629,\n",
       "  58659,\n",
       "  58788,\n",
       "  58649,\n",
       "  58840,\n",
       "  58948,\n",
       "  58772,\n",
       "  58812,\n",
       "  58921,\n",
       "  58981,\n",
       "  58984,\n",
       "  58946,\n",
       "  59118,\n",
       "  59078,\n",
       "  59133,\n",
       "  59128])"
      ]
     },
     "execution_count": 16,
     "metadata": {},
     "output_type": "execute_result"
    }
   ],
   "source": [
    "net.SGD(training_data,30,10,0.5,evaluation_data=test_data,monitor_training_accuracy=True)"
   ]
  },
  {
   "cell_type": "code",
   "execution_count": null,
   "metadata": {},
   "outputs": [],
   "source": []
  }
 ],
 "metadata": {
  "kernelspec": {
   "display_name": "Python 3",
   "language": "python",
   "name": "python3"
  },
  "language_info": {
   "codemirror_mode": {
    "name": "ipython",
    "version": 3
   },
   "file_extension": ".py",
   "mimetype": "text/x-python",
   "name": "python",
   "nbconvert_exporter": "python",
   "pygments_lexer": "ipython3",
   "version": "3.6.4"
  }
 },
 "nbformat": 4,
 "nbformat_minor": 2
}
