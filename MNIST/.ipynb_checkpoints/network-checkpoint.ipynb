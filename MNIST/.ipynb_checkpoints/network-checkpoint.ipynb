{
 "cells": [
  {
   "cell_type": "code",
   "execution_count": 79,
   "metadata": {},
   "outputs": [],
   "source": [
    "import Network\n"
   ]
  },
  {
   "cell_type": "code",
   "execution_count": 80,
   "metadata": {},
   "outputs": [],
   "source": [
    "net = Network.Network([784, 100, 10])"
   ]
  },
  {
   "cell_type": "code",
   "execution_count": null,
   "metadata": {},
   "outputs": [
    {
     "name": "stdout",
     "output_type": "stream",
     "text": [
      "(60000,)\n",
      "(10000,)\n"
     ]
    }
   ],
   "source": [
    "training_data, test_data = Network.load_data_wrapper()"
   ]
  },
  {
   "cell_type": "code",
   "execution_count": null,
   "metadata": {},
   "outputs": [
    {
     "name": "stdout",
     "output_type": "stream",
     "text": [
      "Epoch 0 : 7565 / 10000\n",
      "Epoch 1 : 7679 / 10000\n",
      "Epoch 2 : 7728 / 10000\n",
      "Epoch 3 : 7742 / 10000\n",
      "Epoch 4 : 7766 / 10000\n",
      "Epoch 5 : 7781 / 10000\n",
      "Epoch 6 : 7792 / 10000\n",
      "Epoch 7 : 7807 / 10000\n",
      "Epoch 8 : 7805 / 10000\n",
      "Epoch 9 : 7810 / 10000\n",
      "Epoch 10 : 7829 / 10000\n",
      "Epoch 11 : 7824 / 10000\n",
      "Epoch 12 : 7819 / 10000\n",
      "Epoch 13 : 7832 / 10000\n",
      "Epoch 14 : 7831 / 10000\n",
      "Epoch 15 : 7830 / 10000\n",
      "Epoch 16 : 7850 / 10000\n"
     ]
    }
   ],
   "source": [
    "net.SGD(training_data, 30, 10, 3.0, test_data=test_data)"
   ]
  },
  {
   "cell_type": "code",
   "execution_count": null,
   "metadata": {},
   "outputs": [],
   "source": []
  }
 ],
 "metadata": {
  "kernelspec": {
   "display_name": "Python 3",
   "language": "python",
   "name": "python3"
  },
  "language_info": {
   "codemirror_mode": {
    "name": "ipython",
    "version": 3
   },
   "file_extension": ".py",
   "mimetype": "text/x-python",
   "name": "python",
   "nbconvert_exporter": "python",
   "pygments_lexer": "ipython3",
   "version": "3.6.4"
  }
 },
 "nbformat": 4,
 "nbformat_minor": 2
}
