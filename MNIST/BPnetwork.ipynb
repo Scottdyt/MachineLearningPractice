{
 "cells": [
  {
   "cell_type": "code",
   "execution_count": 1,
   "metadata": {},
   "outputs": [],
   "source": [
    "import Network\n"
   ]
  },
  {
   "cell_type": "markdown",
   "metadata": {},
   "source": [
    "## use 100 neuron"
   ]
  },
  {
   "cell_type": "code",
   "execution_count": 2,
   "metadata": {},
   "outputs": [],
   "source": [
    "net = Network.Network([784, 100, 10])"
   ]
  },
  {
   "cell_type": "code",
   "execution_count": 3,
   "metadata": {},
   "outputs": [
    {
     "name": "stdout",
     "output_type": "stream",
     "text": [
      "(60000,)\n",
      "(10000,)\n"
     ]
    }
   ],
   "source": [
    "training_data, test_data = Network.load_data_wrapper()"
   ]
  },
  {
   "cell_type": "code",
   "execution_count": 4,
   "metadata": {},
   "outputs": [
    {
     "name": "stdout",
     "output_type": "stream",
     "text": [
      "Epoch 0 : 7531 / 10000\n",
      "Epoch 1 : 8501 / 10000\n",
      "Epoch 2 : 9420 / 10000\n",
      "Epoch 3 : 9527 / 10000\n",
      "Epoch 4 : 9496 / 10000\n",
      "Epoch 5 : 9559 / 10000\n",
      "Epoch 6 : 9568 / 10000\n",
      "Epoch 7 : 9612 / 10000\n",
      "Epoch 8 : 9593 / 10000\n",
      "Epoch 9 : 9606 / 10000\n",
      "Epoch 10 : 9603 / 10000\n",
      "Epoch 11 : 9622 / 10000\n",
      "Epoch 12 : 9643 / 10000\n",
      "Epoch 13 : 9652 / 10000\n",
      "Epoch 14 : 9640 / 10000\n",
      "Epoch 15 : 9655 / 10000\n",
      "Epoch 16 : 9654 / 10000\n",
      "Epoch 17 : 9651 / 10000\n",
      "Epoch 18 : 9645 / 10000\n",
      "Epoch 19 : 9655 / 10000\n",
      "Epoch 20 : 9644 / 10000\n",
      "Epoch 21 : 9662 / 10000\n",
      "Epoch 22 : 9642 / 10000\n",
      "Epoch 23 : 9654 / 10000\n",
      "Epoch 24 : 9653 / 10000\n",
      "Epoch 25 : 9648 / 10000\n",
      "Epoch 26 : 9667 / 10000\n",
      "Epoch 27 : 9668 / 10000\n",
      "Epoch 28 : 9655 / 10000\n",
      "Epoch 29 : 9671 / 10000\n"
     ]
    }
   ],
   "source": [
    "net.SGD(training_data, 30, 10, 3.0, test_data=test_data)"
   ]
  },
  {
   "cell_type": "code",
   "execution_count": null,
   "metadata": {},
   "outputs": [],
   "source": []
  }
 ],
 "metadata": {
  "kernelspec": {
   "display_name": "Python 3",
   "language": "python",
   "name": "python3"
  },
  "language_info": {
   "codemirror_mode": {
    "name": "ipython",
    "version": 3
   },
   "file_extension": ".py",
   "mimetype": "text/x-python",
   "name": "python",
   "nbconvert_exporter": "python",
   "pygments_lexer": "ipython3",
   "version": "3.6.4"
  }
 },
 "nbformat": 4,
 "nbformat_minor": 2
}
